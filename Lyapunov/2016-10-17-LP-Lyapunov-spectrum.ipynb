{
 "cells": [
  {
   "cell_type": "markdown",
   "metadata": {},
   "source": [
    "# in this notebook\n",
    "\n",
    "Evaluating the full Lyapunov spectra of the rotating wave phenomena.\n",
    "\n",
    "Based on the Jupyter Notebook 2016-10-27-LP-Lyapunov-spectra-coupled-systems.\n",
    "\n"
   ]
  },
  {
   "cell_type": "markdown",
   "metadata": {},
   "source": [
    "# Setup\n",
    "## Loading simulation parameters"
   ]
  },
  {
   "cell_type": "code",
   "execution_count": 19,
   "metadata": {
    "collapsed": true
   },
   "outputs": [],
   "source": [
    "Coup_scheme='XYZ' # change here to 'XYZ', 'X', 'Y' or 'Z'\n",
    "#####################\n",
    "\n",
    "LoadFile='DATA_HUGE_CoupTru_'+Coup_scheme+'_Hildas_PRE_6Rosslers_Ci0_Cf0_2step0_001_Ttime30000'\n",
    "PathLoadFile=r'/media/leo/76E45D14E45CD7C7/BigData/RotatingWaves/Rossler/2016-08-26-arquive-Manipulating-Coupling/Coupling-tru-'+Coup_scheme\n"
   ]
  },
  {
   "cell_type": "code",
   "execution_count": 24,
   "metadata": {
    "collapsed": false
   },
   "outputs": [
    {
     "name": "stdout",
     "output_type": "stream",
     "text": [
      "\n",
      " - Atributos do arquivo: \n",
      "[(u'System parameters (a,b,c)', array([ 0.45,  2.  ,  4.  ])), (u'Frequencies', array([ 1.,  1.,  1.,  1.,  1.,  1.])), (u'Integration Time (s)', 0.01), (u'Sampling Time (s)', 0.01), (u'Sampling frequency (Hz)', 100.0), (u'Time length+transient (s)', 30000.0), (u'Time length (s)', 30000.0), (u'Transient (s)', 0.0), (u'Data shape', nan), (u'Coupling force list', array([ 0.   ,  0.001,  0.002,  0.003,  0.004,  0.005,  0.006,  0.007,\n",
      "        0.008,  0.009,  0.01 ,  0.011,  0.012,  0.013,  0.014,  0.015,\n",
      "        0.016,  0.017,  0.018,  0.019,  0.02 ,  0.021,  0.022,  0.023,\n",
      "        0.024,  0.025,  0.026,  0.027,  0.028,  0.029,  0.03 ,  0.031,\n",
      "        0.032,  0.033,  0.034,  0.035,  0.036,  0.037,  0.038,  0.039,\n",
      "        0.04 ,  0.041,  0.042,  0.043,  0.044,  0.045,  0.046,  0.047,\n",
      "        0.048,  0.049,  0.05 ,  0.051,  0.052,  0.053,  0.054,  0.055,\n",
      "        0.056,  0.057,  0.058,  0.059,  0.06 ,  0.061,  0.062,  0.063,\n",
      "        0.064,  0.065,  0.066,  0.067,  0.068,  0.069,  0.07 ,  0.071,\n",
      "        0.072,  0.073,  0.074,  0.075,  0.076,  0.077,  0.078,  0.079,\n",
      "        0.08 ,  0.081,  0.082,  0.083,  0.084,  0.085,  0.086,  0.087,\n",
      "        0.088,  0.089,  0.09 ,  0.091,  0.092,  0.093,  0.094,  0.095,\n",
      "        0.096,  0.097,  0.098,  0.099,  0.1  ,  0.101,  0.102,  0.103,\n",
      "        0.104,  0.105,  0.106,  0.107,  0.108,  0.109,  0.11 ,  0.111,\n",
      "        0.112,  0.113,  0.114,  0.115,  0.116,  0.117,  0.118,  0.119,\n",
      "        0.12 ,  0.121,  0.122,  0.123,  0.124,  0.125,  0.126,  0.127,\n",
      "        0.128,  0.129,  0.13 ,  0.131,  0.132,  0.133,  0.134,  0.135,\n",
      "        0.136,  0.137,  0.138,  0.139,  0.14 ,  0.141,  0.142,  0.143,\n",
      "        0.144,  0.145,  0.146,  0.147,  0.148,  0.149,  0.15 ,  0.151,\n",
      "        0.152,  0.153,  0.154,  0.155,  0.156,  0.157,  0.158,  0.159,\n",
      "        0.16 ,  0.161,  0.162,  0.163,  0.164,  0.165,  0.166,  0.167,\n",
      "        0.168,  0.169,  0.17 ,  0.171,  0.172,  0.173,  0.174,  0.175,\n",
      "        0.176,  0.177,  0.178,  0.179,  0.18 ,  0.181,  0.182,  0.183,\n",
      "        0.184,  0.185,  0.186,  0.187,  0.188,  0.189,  0.19 ,  0.191,\n",
      "        0.192,  0.193,  0.194,  0.195,  0.196,  0.197,  0.198,  0.199])), (u'Number of systems', 6), (u'Topology', 'Chain'), (u'Obs', 'Estrutura eh [x1,x2,...x_Nsys,y1,y2,...y_Nsys,z1,z2,...z_Nsys]'), (u'Coupling through (x,y,z):', array([ 1.,  1.,  1.]))]\n"
     ]
    }
   ],
   "source": [
    "# Loading data poincare section\n",
    "DataFile=h5py.File(PathLoadFile+r'/'+LoadFile+'.hdf5', \"r\") # creating a file\n",
    "\n",
    "# Initializing some variables\n",
    "#Coup_list=DataFile.attrs['Coupling force list']\n",
    "Coup_list_keys=DataFile.keys()#s_time=MyFile.attrs['Sampling Time (s)']\n",
    "args_n=DataFile.attrs['System parameters (a,b,c)']\n",
    "H=Matrix(DataFile.attrs['Coupling through (x,y,z):'].astype('int'))\n",
    "Nsys=DataFile.attrs['Frequencies'].shape[0]\n",
    "N_coup=len(Coup_list_keys)\n",
    "\n",
    "#Vendo os atributos\n",
    "print '\\n - Atributos do arquivo: \\n', DataFile.attrs.items()\n",
    "\n",
    "#DataFile.close()"
   ]
  },
  {
   "cell_type": "markdown",
   "metadata": {},
   "source": [
    "### Reordering state vector:\n",
    " * Original data format: ['x1' 'x2' 'x3' 'y1' 'y2' 'y3' 'z1' 'z2' 'z3'] \n",
    " * Format used in the Lyapunov function: ['x1' 'y1' 'z1' 'x2' 'y2' 'z2' 'x3' 'y3' 'z3']\n",
    " \n",
    "> xData=np.array([i+str(j) for i in ['x', 'y', 'z'] for j in range(1,4)])\n",
    "\n",
    "> print xData\n",
    "\n",
    "> print xData.reshape((3,3)).T.ravel()"
   ]
  },
  {
   "cell_type": "markdown",
   "metadata": {},
   "source": [
    "## Symbolic vectors and matrices"
   ]
  },
  {
   "cell_type": "code",
   "execution_count": 27,
   "metadata": {
    "collapsed": false
   },
   "outputs": [
    {
     "data": {
      "text/latex": [
       "$$\\left[\\begin{array}{cccccccccccccccccc}x_{1} & y_{1} & z_{1} & x_{2} & y_{2} & z_{2} & x_{3} & y_{3} & z_{3} & x_{4} & y_{4} & z_{4} & x_{5} & y_{5} & z_{5} & x_{6} & y_{6} & z_{6}\\end{array}\\right]$$"
      ],
      "text/plain": [
       "[x₁  y₁  z₁  x₂  y₂  z₂  x₃  y₃  z₃  x₄  y₄  z₄  x₅  y₅  z₅  x₆  y₆  z₆]"
      ]
     },
     "execution_count": 27,
     "metadata": {},
     "output_type": "execute_result"
    }
   ],
   "source": [
    "Vars=['x','y','z']\n",
    "\n",
    "sys_i=[str(i) for i in np.arange(1,Nsys+1)]\n",
    "\n",
    "labels_temp=[j+i+' ' for i in sys_i for j in Vars]\n",
    "labels_temp='None '+''.join(labels_temp) # none para que X[1] corresponda ao simbolo x1\n",
    "#print labels_temp\n",
    "\n",
    "# state variables\n",
    "X=symbols(labels_temp, real=True)\n",
    "vecX=Matrix(X[1:])\n",
    "\n",
    "vecX.T"
   ]
  },
  {
   "cell_type": "code",
   "execution_count": 28,
   "metadata": {
    "collapsed": false
   },
   "outputs": [],
   "source": [
    "# Symbolic parameters\n",
    "a,b,c=symbols('a b c', real=True) # Parameters\n",
    "args=[a,b,c]\n",
    "\n",
    "F_temp=[Matrix([\n",
    "            [-X[2+i]-X[3+i]],\n",
    "            [X[1+i]+a*X[2+i]],\n",
    "            [b+X[3+i]*(X[1+i]-c)]\n",
    "        ])\n",
    "        for i in np.arange(Nsys)*len(Vars)]\n",
    "\n",
    "F=F_temp[0]\n",
    "\n",
    "for i in np.arange(1,Nsys):\n",
    "    F=F.col_join(F_temp[i])\n",
    "    \n",
    "DF=F.jacobian(vecX)\n",
    "    \n",
    "#F, DF"
   ]
  },
  {
   "cell_type": "markdown",
   "metadata": {},
   "source": [
    "## Introducing the coupling"
   ]
  },
  {
   "cell_type": "markdown",
   "metadata": {},
   "source": [
    "### Network structure"
   ]
  },
  {
   "cell_type": "code",
   "execution_count": 29,
   "metadata": {
    "collapsed": false
   },
   "outputs": [
    {
     "data": {
      "image/png": "[encoded data removed]",
      "text/plain": [
       "<matplotlib.figure.Figure at 0x7f11905f34d0>"
      ]
     },
     "metadata": {},
     "output_type": "display_data"
    }
   ],
   "source": [
    "close_ring=True\n",
    "\n",
    "# Network topology\n",
    "Gm = mssa.network_AdjMatrix_GG2011_ring(Nsys) # Conection matrix\n",
    "if close_ring:\n",
    "    Gm[0,-1]=1\n",
    "    Gm[-1,0]=1\n",
    "    \n",
    "Ni_in = np.nansum(Gm, axis=0) # Number of \"in\" conections of oscilator i\n",
    "I = np.diag(np.ones(Nsys)) #identity matrix\n",
    "\n",
    "Agm = Gm  - Ni_in*I  # Coupling matrix [GG 2011 is (a-2d)]\n",
    "\n",
    "\n",
    "# Visual inspection of the coupling\n",
    "fig = plt.figure()\n",
    "D = nx.DiGraph(Gm) #with d here, the network figure will show correctly if there is connection (Gm) and COUPLING (d).\n",
    "                    # Because with d=0 there is no coupling!!!!\n",
    "\n",
    "nx.draw_circular(D)"
   ]
  },
  {
   "cell_type": "markdown",
   "metadata": {},
   "source": [
    "### Coupled vector field"
   ]
  },
  {
   "cell_type": "code",
   "execution_count": 30,
   "metadata": {
    "collapsed": false
   },
   "outputs": [
    {
     "name": "stdout",
     "output_type": "stream",
     "text": [
      "Arguments used in the vector field F: {a: 0.45000000000000001, c: 4.0, b: 2.0}\n",
      "Comparing the uncoupled and coupled vector fields:\n"
     ]
    },
    {
     "data": {
      "text/latex": [
       "$$\\left ( \\left[\\begin{matrix}- y_{1} - z_{1}\\\\a y_{1} + x_{1}\\\\b + z_{1} \\left(- c + x_{1}\\right)\\\\- y_{2} - z_{2}\\\\a y_{2} + x_{2}\\\\b + z_{2} \\left(- c + x_{2}\\right)\\\\- y_{3} - z_{3}\\\\a y_{3} + x_{3}\\\\b + z_{3} \\left(- c + x_{3}\\right)\\\\- y_{4} - z_{4}\\\\a y_{4} + x_{4}\\\\b + z_{4} \\left(- c + x_{4}\\right)\\\\- y_{5} - z_{5}\\\\a y_{5} + x_{5}\\\\b + z_{5} \\left(- c + x_{5}\\right)\\\\- y_{6} - z_{6}\\\\a y_{6} + x_{6}\\\\b + z_{6} \\left(- c + x_{6}\\right)\\end{matrix}\\right], \\quad \\left[\\begin{matrix}\\epsilon \\left(- 2 x_{1} + x_{2} + x_{6}\\right)\\\\\\epsilon \\left(- 2 y_{1} + y_{2} + y_{6}\\right)\\\\\\epsilon \\left(- 2 z_{1} + z_{2} + z_{6}\\right)\\\\\\epsilon \\left(x_{1} - 2 x_{2} + x_{3}\\right)\\\\\\epsilon \\left(y_{1} - 2 y_{2} + y_{3}\\right)\\\\\\epsilon \\left(z_{1} - 2 z_{2} + z_{3}\\right)\\\\\\epsilon \\left(x_{2} - 2 x_{3} + x_{4}\\right)\\\\\\epsilon \\left(y_{2} - 2 y_{3} + y_{4}\\right)\\\\\\epsilon \\left(z_{2} - 2 z_{3} + z_{4}\\right)\\\\\\epsilon \\left(x_{3} - 2 x_{4} + x_{5}\\right)\\\\\\epsilon \\left(y_{3} - 2 y_{4} + y_{5}\\right)\\\\\\epsilon \\left(z_{3} - 2 z_{4} + z_{5}\\right)\\\\\\epsilon \\left(x_{4} - 2 x_{5} + x_{6}\\right)\\\\\\epsilon \\left(y_{4} - 2 y_{5} + y_{6}\\right)\\\\\\epsilon \\left(z_{4} - 2 z_{5} + z_{6}\\right)\\\\\\epsilon \\left(x_{1} + x_{5} - 2 x_{6}\\right)\\\\\\epsilon \\left(y_{1} + y_{5} - 2 y_{6}\\right)\\\\\\epsilon \\left(z_{1} + z_{5} - 2 z_{6}\\right)\\end{matrix}\\right], \\quad \\left[\\begin{matrix}\\epsilon \\left(- 2 x_{1} + x_{2} + x_{6}\\right) - y_{1} - z_{1}\\\\\\epsilon \\left(- 2 y_{1} + y_{2} + y_{6}\\right) + x_{1} + 0.45 y_{1}\\\\\\epsilon \\left(- 2 z_{1} + z_{2} + z_{6}\\right) + z_{1} \\left(x_{1} - 4.0\\right) + 2.0\\\\\\epsilon \\left(x_{1} - 2 x_{2} + x_{3}\\right) - y_{2} - z_{2}\\\\\\epsilon \\left(y_{1} - 2 y_{2} + y_{3}\\right) + x_{2} + 0.45 y_{2}\\\\\\epsilon \\left(z_{1} - 2 z_{2} + z_{3}\\right) + z_{2} \\left(x_{2} - 4.0\\right) + 2.0\\\\\\epsilon \\left(x_{2} - 2 x_{3} + x_{4}\\right) - y_{3} - z_{3}\\\\\\epsilon \\left(y_{2} - 2 y_{3} + y_{4}\\right) + x_{3} + 0.45 y_{3}\\\\\\epsilon \\left(z_{2} - 2 z_{3} + z_{4}\\right) + z_{3} \\left(x_{3} - 4.0\\right) + 2.0\\\\\\epsilon \\left(x_{3} - 2 x_{4} + x_{5}\\right) - y_{4} - z_{4}\\\\\\epsilon \\left(y_{3} - 2 y_{4} + y_{5}\\right) + x_{4} + 0.45 y_{4}\\\\\\epsilon \\left(z_{3} - 2 z_{4} + z_{5}\\right) + z_{4} \\left(x_{4} - 4.0\\right) + 2.0\\\\\\epsilon \\left(x_{4} - 2 x_{5} + x_{6}\\right) - y_{5} - z_{5}\\\\\\epsilon \\left(y_{4} - 2 y_{5} + y_{6}\\right) + x_{5} + 0.45 y_{5}\\\\\\epsilon \\left(z_{4} - 2 z_{5} + z_{6}\\right) + z_{5} \\left(x_{5} - 4.0\\right) + 2.0\\\\\\epsilon \\left(x_{1} + x_{5} - 2 x_{6}\\right) - y_{6} - z_{6}\\\\\\epsilon \\left(y_{1} + y_{5} - 2 y_{6}\\right) + x_{6} + 0.45 y_{6}\\\\\\epsilon \\left(z_{1} + z_{5} - 2 z_{6}\\right) + z_{6} \\left(x_{6} - 4.0\\right) + 2.0\\end{matrix}\\right]\\right )$$"
      ],
      "text/plain": [
       "⎛⎡    -y₁ - z₁    ⎤, ⎡ε⋅(-2⋅x₁ + x₂ + x₆)⎤, ⎡      ε⋅(-2⋅x₁ + x₂ + x₆) - y₁ - \n",
       "⎜⎢                ⎥  ⎢                   ⎥  ⎢                                 \n",
       "⎜⎢   a⋅y₁ + x₁    ⎥  ⎢ε⋅(-2⋅y₁ + y₂ + y₆)⎥  ⎢   ε⋅(-2⋅y₁ + y₂ + y₆) + x₁ + 0.4\n",
       "⎜⎢                ⎥  ⎢                   ⎥  ⎢                                 \n",
       "⎜⎢b + z₁⋅(-c + x₁)⎥  ⎢ε⋅(-2⋅z₁ + z₂ + z₆)⎥  ⎢ε⋅(-2⋅z₁ + z₂ + z₆) + z₁⋅(x₁ - 4.\n",
       "⎜⎢                ⎥  ⎢                   ⎥  ⎢                                 \n",
       "⎜⎢    -y₂ - z₂    ⎥  ⎢ε⋅(x₁ - 2⋅x₂ + x₃) ⎥  ⎢      ε⋅(x₁ - 2⋅x₂ + x₃) - y₂ - z\n",
       "⎜⎢                ⎥  ⎢                   ⎥  ⎢                                 \n",
       "⎜⎢   a⋅y₂ + x₂    ⎥  ⎢ε⋅(y₁ - 2⋅y₂ + y₃) ⎥  ⎢    ε⋅(y₁ - 2⋅y₂ + y₃) + x₂ + 0.4\n",
       "⎜⎢                ⎥  ⎢                   ⎥  ⎢                                 \n",
       "⎜⎢b + z₂⋅(-c + x₂)⎥  ⎢ε⋅(z₁ - 2⋅z₂ + z₃) ⎥  ⎢ε⋅(z₁ - 2⋅z₂ + z₃) + z₂⋅(x₂ - 4.0\n",
       "⎜⎢                ⎥  ⎢                   ⎥  ⎢                                 \n",
       "⎜⎢    -y₃ - z₃    ⎥  ⎢ε⋅(x₂ - 2⋅x₃ + x₄) ⎥  ⎢      ε⋅(x₂ - 2⋅x₃ + x₄) - y₃ - z\n",
       "⎜⎢                ⎥  ⎢                   ⎥  ⎢                                 \n",
       "⎜⎢   a⋅y₃ + x₃    ⎥  ⎢ε⋅(y₂ - 2⋅y₃ + y₄) ⎥  ⎢    ε⋅(y₂ - 2⋅y₃ + y₄) + x₃ + 0.4\n",
       "⎜⎢                ⎥  ⎢                   ⎥  ⎢                                 \n",
       "⎜⎢b + z₃⋅(-c + x₃)⎥  ⎢ε⋅(z₂ - 2⋅z₃ + z₄) ⎥  ⎢ε⋅(z₂ - 2⋅z₃ + z₄) + z₃⋅(x₃ - 4.0\n",
       "⎜⎢                ⎥  ⎢                   ⎥  ⎢                                 \n",
       "⎜⎢    -y₄ - z₄    ⎥  ⎢ε⋅(x₃ - 2⋅x₄ + x₅) ⎥  ⎢      ε⋅(x₃ - 2⋅x₄ + x₅) - y₄ - z\n",
       "⎜⎢                ⎥  ⎢                   ⎥  ⎢                                 \n",
       "⎜⎢   a⋅y₄ + x₄    ⎥  ⎢ε⋅(y₃ - 2⋅y₄ + y₅) ⎥  ⎢    ε⋅(y₃ - 2⋅y₄ + y₅) + x₄ + 0.4\n",
       "⎜⎢                ⎥  ⎢                   ⎥  ⎢                                 \n",
       "⎜⎢b + z₄⋅(-c + x₄)⎥  ⎢ε⋅(z₃ - 2⋅z₄ + z₅) ⎥  ⎢ε⋅(z₃ - 2⋅z₄ + z₅) + z₄⋅(x₄ - 4.0\n",
       "⎜⎢                ⎥  ⎢                   ⎥  ⎢                                 \n",
       "⎜⎢    -y₅ - z₅    ⎥  ⎢ε⋅(x₄ - 2⋅x₅ + x₆) ⎥  ⎢      ε⋅(x₄ - 2⋅x₅ + x₆) - y₅ - z\n",
       "⎜⎢                ⎥  ⎢                   ⎥  ⎢                                 \n",
       "⎜⎢   a⋅y₅ + x₅    ⎥  ⎢ε⋅(y₄ - 2⋅y₅ + y₆) ⎥  ⎢    ε⋅(y₄ - 2⋅y₅ + y₆) + x₅ + 0.4\n",
       "⎜⎢                ⎥  ⎢                   ⎥  ⎢                                 \n",
       "⎜⎢b + z₅⋅(-c + x₅)⎥  ⎢ε⋅(z₄ - 2⋅z₅ + z₆) ⎥  ⎢ε⋅(z₄ - 2⋅z₅ + z₆) + z₅⋅(x₅ - 4.0\n",
       "⎜⎢                ⎥  ⎢                   ⎥  ⎢                                 \n",
       "⎜⎢    -y₆ - z₆    ⎥  ⎢ε⋅(x₁ + x₅ - 2⋅x₆) ⎥  ⎢      ε⋅(x₁ + x₅ - 2⋅x₆) - y₆ - z\n",
       "⎜⎢                ⎥  ⎢                   ⎥  ⎢                                 \n",
       "⎜⎢   a⋅y₆ + x₆    ⎥  ⎢ε⋅(y₁ + y₅ - 2⋅y₆) ⎥  ⎢    ε⋅(y₁ + y₅ - 2⋅y₆) + x₆ + 0.4\n",
       "⎜⎢                ⎥  ⎢                   ⎥  ⎢                                 \n",
       "⎝⎣b + z₆⋅(-c + x₆)⎦  ⎣ε⋅(z₁ + z₅ - 2⋅z₆) ⎦  ⎣ε⋅(z₁ + z₅ - 2⋅z₆) + z₆⋅(x₆ - 4.0\n",
       "\n",
       "z₁      ⎤⎞\n",
       "        ⎥⎟\n",
       "5⋅y₁    ⎥⎟\n",
       "        ⎥⎟\n",
       "0) + 2.0⎥⎟\n",
       "        ⎥⎟\n",
       "₂       ⎥⎟\n",
       "        ⎥⎟\n",
       "5⋅y₂    ⎥⎟\n",
       "        ⎥⎟\n",
       ") + 2.0 ⎥⎟\n",
       "        ⎥⎟\n",
       "₃       ⎥⎟\n",
       "        ⎥⎟\n",
       "5⋅y₃    ⎥⎟\n",
       "        ⎥⎟\n",
       ") + 2.0 ⎥⎟\n",
       "        ⎥⎟\n",
       "₄       ⎥⎟\n",
       "        ⎥⎟\n",
       "5⋅y₄    ⎥⎟\n",
       "        ⎥⎟\n",
       ") + 2.0 ⎥⎟\n",
       "        ⎥⎟\n",
       "₅       ⎥⎟\n",
       "        ⎥⎟\n",
       "5⋅y₅    ⎥⎟\n",
       "        ⎥⎟\n",
       ") + 2.0 ⎥⎟\n",
       "        ⎥⎟\n",
       "₆       ⎥⎟\n",
       "        ⎥⎟\n",
       "5⋅y₆    ⎥⎟\n",
       "        ⎥⎟\n",
       ") + 2.0 ⎦⎠"
      ]
     },
     "execution_count": 30,
     "metadata": {},
     "output_type": "execute_result"
    }
   ],
   "source": [
    "#A=Matrix([[0,1],[1,0]])\n",
    "A=Matrix(Gm.astype('int')) # Adjacency matrix (called Gm in the first cell)\n",
    "I3=Matrix.eye(3)\n",
    "\n",
    "# Degree (number of connections per node\n",
    "degree=np.nansum(matrix2numpy(A,dtype='int'), axis=0)\n",
    "K=diag(*degree)\n",
    "L=A-K # Laplacian (Note that it is the same as Agm computed in the cell above)\n",
    "\n",
    "\n",
    "# Symbolic\n",
    "epsilon=symbols('epsilon') # coupling strength\n",
    "E=(H*H.T).multiply_elementwise(I3)\n",
    "LkronE=TensorProduct(L,E)\n",
    "\n",
    "Fcoupled=F.subs({i:j for i,j in zip(args,args_n)})+epsilon*(LkronE*Matrix(X[1:]))\n",
    "\n",
    "print 'Arguments used in the vector field F:', {i:j for i,j in zip(args,args_n)}\n",
    "print 'Comparing the uncoupled and coupled vector fields:'\n",
    "F,epsilon*(LkronE*Matrix(X[1:])), Fcoupled"
   ]
  },
  {
   "cell_type": "markdown",
   "metadata": {},
   "source": [
    "# Lyapunov spectra estimate"
   ]
  },
  {
   "cell_type": "markdown",
   "metadata": {},
   "source": [
    "## Simulation parameters"
   ]
  },
  {
   "cell_type": "code",
   "execution_count": 21,
   "metadata": {
    "collapsed": true
   },
   "outputs": [
    {
     "data": {
      "text/plain": [
       "[u'0.0',\n",
       " u'0.001',\n",
       " u'0.002',\n",
       " u'0.003',\n",
       " u'0.004',\n",
       " u'0.005',\n",
       " u'0.006',\n",
       " u'0.007',\n",
       " u'0.008',\n",
       " u'0.009',\n",
       " u'0.01',\n",
       " u'0.011',\n",
       " u'0.012',\n",
       " u'0.013',\n",
       " u'0.014',\n",
       " u'0.015',\n",
       " u'0.016',\n",
       " u'0.017',\n",
       " u'0.018',\n",
       " u'0.019',\n",
       " u'0.02',\n",
       " u'0.021',\n",
       " u'0.022',\n",
       " u'0.023',\n",
       " u'0.024',\n",
       " u'0.025',\n",
       " u'0.026',\n",
       " u'0.027',\n",
       " u'0.028',\n",
       " u'0.029',\n",
       " u'0.03',\n",
       " u'0.031',\n",
       " u'0.032',\n",
       " u'0.033',\n",
       " u'0.034',\n",
       " u'0.035',\n",
       " u'0.036',\n",
       " u'0.037',\n",
       " u'0.038',\n",
       " u'0.039',\n",
       " u'0.04',\n",
       " u'0.041',\n",
       " u'0.042',\n",
       " u'0.043',\n",
       " u'0.044',\n",
       " u'0.045',\n",
       " u'0.046',\n",
       " u'0.047',\n",
       " u'0.048',\n",
       " u'0.049',\n",
       " u'0.05',\n",
       " u'0.051',\n",
       " u'0.052',\n",
       " u'0.053',\n",
       " u'0.054',\n",
       " u'0.055',\n",
       " u'0.056',\n",
       " u'0.057',\n",
       " u'0.058',\n",
       " u'0.059',\n",
       " u'0.06',\n",
       " u'0.061',\n",
       " u'0.062',\n",
       " u'0.063',\n",
       " u'0.064',\n",
       " u'0.065',\n",
       " u'0.066',\n",
       " u'0.067',\n",
       " u'0.068',\n",
       " u'0.069',\n",
       " u'0.07',\n",
       " u'0.071',\n",
       " u'0.072',\n",
       " u'0.073',\n",
       " u'0.074',\n",
       " u'0.075',\n",
       " u'0.076',\n",
       " u'0.077',\n",
       " u'0.078',\n",
       " u'0.079',\n",
       " u'0.08',\n",
       " u'0.081',\n",
       " u'0.082',\n",
       " u'0.083',\n",
       " u'0.084',\n",
       " u'0.085',\n",
       " u'0.086',\n",
       " u'0.087',\n",
       " u'0.088',\n",
       " u'0.089',\n",
       " u'0.09',\n",
       " u'0.091',\n",
       " u'0.092',\n",
       " u'0.093',\n",
       " u'0.094',\n",
       " u'0.095',\n",
       " u'0.096',\n",
       " u'0.097',\n",
       " u'0.098',\n",
       " u'0.099',\n",
       " u'0.1',\n",
       " u'0.101',\n",
       " u'0.102',\n",
       " u'0.103',\n",
       " u'0.104',\n",
       " u'0.105',\n",
       " u'0.106',\n",
       " u'0.107',\n",
       " u'0.108',\n",
       " u'0.109',\n",
       " u'0.11',\n",
       " u'0.111',\n",
       " u'0.112',\n",
       " u'0.113',\n",
       " u'0.114',\n",
       " u'0.115',\n",
       " u'0.116',\n",
       " u'0.117',\n",
       " u'0.118',\n",
       " u'0.119',\n",
       " u'0.12',\n",
       " u'0.121',\n",
       " u'0.122',\n",
       " u'0.123',\n",
       " u'0.124',\n",
       " u'0.125',\n",
       " u'0.126',\n",
       " u'0.127',\n",
       " u'0.128',\n",
       " u'0.129',\n",
       " u'0.13',\n",
       " u'0.131',\n",
       " u'0.132',\n",
       " u'0.133',\n",
       " u'0.134',\n",
       " u'0.135',\n",
       " u'0.136',\n",
       " u'0.137',\n",
       " u'0.138',\n",
       " u'0.139',\n",
       " u'0.14',\n",
       " u'0.141',\n",
       " u'0.142',\n",
       " u'0.143',\n",
       " u'0.144',\n",
       " u'0.145',\n",
       " u'0.146',\n",
       " u'0.147',\n",
       " u'0.148',\n",
       " u'0.149',\n",
       " u'0.15',\n",
       " u'0.151',\n",
       " u'0.152',\n",
       " u'0.153',\n",
       " u'0.154',\n",
       " u'0.155',\n",
       " u'0.156',\n",
       " u'0.157',\n",
       " u'0.158',\n",
       " u'0.159',\n",
       " u'0.16',\n",
       " u'0.161',\n",
       " u'0.162',\n",
       " u'0.163',\n",
       " u'0.164',\n",
       " u'0.165',\n",
       " u'0.166',\n",
       " u'0.167',\n",
       " u'0.168',\n",
       " u'0.169',\n",
       " u'0.17',\n",
       " u'0.171',\n",
       " u'0.172',\n",
       " u'0.173',\n",
       " u'0.174',\n",
       " u'0.175',\n",
       " u'0.176',\n",
       " u'0.177',\n",
       " u'0.178',\n",
       " u'0.179',\n",
       " u'0.18',\n",
       " u'0.181',\n",
       " u'0.182',\n",
       " u'0.183',\n",
       " u'0.184',\n",
       " u'0.185',\n",
       " u'0.186',\n",
       " u'0.187',\n",
       " u'0.188',\n",
       " u'0.189',\n",
       " u'0.19',\n",
       " u'0.191',\n",
       " u'0.192',\n",
       " u'0.193',\n",
       " u'0.194',\n",
       " u'0.195',\n",
       " u'0.196',\n",
       " u'0.197',\n",
       " u'0.198',\n",
       " u'0.199']"
      ]
     },
     "execution_count": 21,
     "metadata": {},
     "output_type": "execute_result"
    }
   ],
   "source": [
    "Coup_list_keys"
   ]
  },
  {
   "cell_type": "code",
   "execution_count": 31,
   "metadata": {
    "collapsed": false
   },
   "outputs": [
    {
     "data": {
      "text/plain": [
       "u'0.06'"
      ]
     },
     "execution_count": 31,
     "metadata": {},
     "output_type": "execute_result"
    }
   ],
   "source": [
    "i_coup=Coup_list_keys[60]\n",
    "i_coup"
   ]
  },
  {
   "cell_type": "code",
   "execution_count": 32,
   "metadata": {
    "collapsed": false
   },
   "outputs": [
    {
     "name": "stdout",
     "output_type": "stream",
     "text": [
      "- Trajectory length (s) will be: 1800.0\n",
      "- Initial condition (x1y1z1 x2y2z2...:\n",
      "[-2.64210061 -0.46647449  0.30368701 -0.69927402 -3.40706597  0.38923803\n",
      "  2.86447041 -3.93437899  0.92544269  3.71429305 -1.21578288  2.58973768\n",
      "  1.00550123  1.39294822  1.2828114  -1.57983364  1.72765774  0.41077862]\n",
      "- New vector field:\n",
      "\n"
     ]
    },
    {
     "data": {
      "text/latex": [
       "$$\\left[\\begin{matrix}- 0.12 x_{1} + 0.06 x_{2} + 0.06 x_{6} - y_{1} - z_{1}\\\\x_{1} + 0.33 y_{1} + 0.06 y_{2} + 0.06 y_{6}\\\\z_{1} \\left(x_{1} - 4.0\\right) - 0.12 z_{1} + 0.06 z_{2} + 0.06 z_{6} + 2.0\\\\0.06 x_{1} - 0.12 x_{2} + 0.06 x_{3} - y_{2} - z_{2}\\\\x_{2} + 0.06 y_{1} + 0.33 y_{2} + 0.06 y_{3}\\\\0.06 z_{1} + z_{2} \\left(x_{2} - 4.0\\right) - 0.12 z_{2} + 0.06 z_{3} + 2.0\\\\0.06 x_{2} - 0.12 x_{3} + 0.06 x_{4} - y_{3} - z_{3}\\\\x_{3} + 0.06 y_{2} + 0.33 y_{3} + 0.06 y_{4}\\\\0.06 z_{2} + z_{3} \\left(x_{3} - 4.0\\right) - 0.12 z_{3} + 0.06 z_{4} + 2.0\\\\0.06 x_{3} - 0.12 x_{4} + 0.06 x_{5} - y_{4} - z_{4}\\\\x_{4} + 0.06 y_{3} + 0.33 y_{4} + 0.06 y_{5}\\\\0.06 z_{3} + z_{4} \\left(x_{4} - 4.0\\right) - 0.12 z_{4} + 0.06 z_{5} + 2.0\\\\0.06 x_{4} - 0.12 x_{5} + 0.06 x_{6} - y_{5} - z_{5}\\\\x_{5} + 0.06 y_{4} + 0.33 y_{5} + 0.06 y_{6}\\\\0.06 z_{4} + z_{5} \\left(x_{5} - 4.0\\right) - 0.12 z_{5} + 0.06 z_{6} + 2.0\\\\0.06 x_{1} + 0.06 x_{5} - 0.12 x_{6} - y_{6} - z_{6}\\\\x_{6} + 0.06 y_{1} + 0.06 y_{5} + 0.33 y_{6}\\\\0.06 z_{1} + 0.06 z_{5} + z_{6} \\left(x_{6} - 4.0\\right) - 0.12 z_{6} + 2.0\\end{matrix}\\right]$$"
      ],
      "text/plain": [
       "⎡     -0.12⋅x₁ + 0.06⋅x₂ + 0.06⋅x₆ - y₁ - z₁      ⎤\n",
       "⎢                                                 ⎥\n",
       "⎢        x₁ + 0.33⋅y₁ + 0.06⋅y₂ + 0.06⋅y₆         ⎥\n",
       "⎢                                                 ⎥\n",
       "⎢z₁⋅(x₁ - 4.0) - 0.12⋅z₁ + 0.06⋅z₂ + 0.06⋅z₆ + 2.0⎥\n",
       "⎢                                                 ⎥\n",
       "⎢      0.06⋅x₁ - 0.12⋅x₂ + 0.06⋅x₃ - y₂ - z₂      ⎥\n",
       "⎢                                                 ⎥\n",
       "⎢        x₂ + 0.06⋅y₁ + 0.33⋅y₂ + 0.06⋅y₃         ⎥\n",
       "⎢                                                 ⎥\n",
       "⎢0.06⋅z₁ + z₂⋅(x₂ - 4.0) - 0.12⋅z₂ + 0.06⋅z₃ + 2.0⎥\n",
       "⎢                                                 ⎥\n",
       "⎢      0.06⋅x₂ - 0.12⋅x₃ + 0.06⋅x₄ - y₃ - z₃      ⎥\n",
       "⎢                                                 ⎥\n",
       "⎢        x₃ + 0.06⋅y₂ + 0.33⋅y₃ + 0.06⋅y₄         ⎥\n",
       "⎢                                                 ⎥\n",
       "⎢0.06⋅z₂ + z₃⋅(x₃ - 4.0) - 0.12⋅z₃ + 0.06⋅z₄ + 2.0⎥\n",
       "⎢                                                 ⎥\n",
       "⎢      0.06⋅x₃ - 0.12⋅x₄ + 0.06⋅x₅ - y₄ - z₄      ⎥\n",
       "⎢                                                 ⎥\n",
       "⎢        x₄ + 0.06⋅y₃ + 0.33⋅y₄ + 0.06⋅y₅         ⎥\n",
       "⎢                                                 ⎥\n",
       "⎢0.06⋅z₃ + z₄⋅(x₄ - 4.0) - 0.12⋅z₄ + 0.06⋅z₅ + 2.0⎥\n",
       "⎢                                                 ⎥\n",
       "⎢      0.06⋅x₄ - 0.12⋅x₅ + 0.06⋅x₆ - y₅ - z₅      ⎥\n",
       "⎢                                                 ⎥\n",
       "⎢        x₅ + 0.06⋅y₄ + 0.33⋅y₅ + 0.06⋅y₆         ⎥\n",
       "⎢                                                 ⎥\n",
       "⎢0.06⋅z₄ + z₅⋅(x₅ - 4.0) - 0.12⋅z₅ + 0.06⋅z₆ + 2.0⎥\n",
       "⎢                                                 ⎥\n",
       "⎢      0.06⋅x₁ + 0.06⋅x₅ - 0.12⋅x₆ - y₆ - z₆      ⎥\n",
       "⎢                                                 ⎥\n",
       "⎢        x₆ + 0.06⋅y₁ + 0.06⋅y₅ + 0.33⋅y₆         ⎥\n",
       "⎢                                                 ⎥\n",
       "⎣0.06⋅z₁ + 0.06⋅z₅ + z₆⋅(x₆ - 4.0) - 0.12⋅z₆ + 2.0⎦"
      ]
     },
     "execution_count": 32,
     "metadata": {},
     "output_type": "execute_result"
    },
    {
     "data": {
      "image/png": "[encoded data removed]",
      "text/plain": [
       "<matplotlib.figure.Figure at 0x7f11900d0390>"
      ]
     },
     "metadata": {},
     "output_type": "display_data"
    }
   ],
   "source": [
    "# Simulation parameters\n",
    "epsilon_n=np.array(i_coup, dtype='float')\n",
    "dt_n,Transient,T,K=0.02, 3000, 0.6, 3000\n",
    "\n",
    "# dt_n, integration step\n",
    "# Transient, transient time to drop away\n",
    "# T, time evolution before callback (Gram-Schmidt)\n",
    "# K, Iterations per callback\n",
    "\n",
    "# Initial condition\n",
    "ydata=DataFile[i_coup][0,:]\n",
    "Y0_n= ydata.reshape((3,Nsys)).T.ravel() # xData.reshape((3,3)).T.ravel()\n",
    "#######################################\n",
    "\n",
    "Fcoupled_epsilon_n=Fcoupled.subs(epsilon,epsilon_n)\n",
    "\n",
    "# Plotting initial condition phase space\n",
    "plt.plot(ydata[:6],ydata[6:12])\n",
    "plt.plot(ydata[:6],ydata[6:12],'ro')\n",
    "plt.title('Initial condition $\\epsilon=$'+i_coup)\n",
    "plt.xlabel('$x(0)$',fontsize=20)\n",
    "plt.ylabel('$y(0)$',fontsize=20)\n",
    "#################################\n",
    "\n",
    "print '- Trajectory length (s) will be:',K*T\n",
    "print '- Initial condition (x1y1z1 x2y2z2...:\\n', Y0_n\n",
    "print '- New vector field:\\n'\n",
    "Fcoupled_epsilon_n\n"
   ]
  },
  {
   "cell_type": "markdown",
   "metadata": {},
   "source": [
    "## Plotting the fiducial trajectory"
   ]
  },
  {
   "cell_type": "code",
   "execution_count": 68,
   "metadata": {
    "collapsed": false
   },
   "outputs": [
    {
     "name": "stdout",
     "output_type": "stream",
     "text": [
      "415.655236006 seconds\n",
      "6.92758726676 minutes\n",
      "yt.shape (30000, 342)\n"
     ]
    }
   ],
   "source": [
    "start = time.time() \n",
    "# 2 minutes for 6 Rossler systems: dt_n,Transient,T,K=0.02, 0, 0.6, 1000\n",
    "\n",
    "yt=Simulate(Fcoupled_epsilon_n,Vars,Nsys,\n",
    "        Y0_n,dt_n,T*K,K,\n",
    "        Transient)\n",
    "\n",
    "#How much time I waited?\n",
    "elapsed = (time.time() - start)\n",
    "print elapsed, 'seconds\\n', elapsed/60, 'minutes' \n",
    "\n",
    "print 'yt.shape', yt.shape"
   ]
  },
  {
   "cell_type": "code",
   "execution_count": 69,
   "metadata": {
    "collapsed": false
   },
   "outputs": [
    {
     "data": {
      "image/png": "[encoded data removed]",
      "text/plain": [
       "<matplotlib.figure.Figure at 0x7fb05a927a50>"
      ]
     },
     "metadata": {},
     "output_type": "display_data"
    }
   ],
   "source": [
    "fig=plt.figure()\n",
    "nr,nc=2,3\n",
    "k=1\n",
    "for i in xrange(6):\n",
    "    ax=fig.add_subplot(nr,nc,k)\n",
    "    #print 3*i,3*i+3\n",
    "    ax.plot(yt[:,3*i],yt[:,3*i+1])\n",
    "    ax.plot(yt[-1,3*i],yt[-1,3*i+1],'ro')\n",
    "    k+=1"
   ]
  },
  {
   "cell_type": "markdown",
   "metadata": {},
   "source": [
    "## Computation"
   ]
  },
  {
   "cell_type": "code",
   "execution_count": 33,
   "metadata": {
    "collapsed": false
   },
   "outputs": [
    {
     "name": "stdout",
     "output_type": "stream",
     "text": [
      "1248.54508305 seconds\n",
      "20.8090847174 minutes\n"
     ]
    }
   ],
   "source": [
    "start = time.time() \n",
    "# 2 minutes for 6 Rossler systems: dt_n,Transient,T,K=0.02, 0, 0.6, 1000\n",
    "\n",
    "lces=ds.LCEs(Fcoupled_epsilon_n,Vars,Nsys,\n",
    "        Y0_n,dt_n,T,K,\n",
    "        Transient)\n",
    "\n",
    "#How much time I waited?\n",
    "elapsed = (time.time() - start)\n",
    "print elapsed, 'seconds\\n', elapsed/60, 'minutes' "
   ]
  },
  {
   "cell_type": "code",
   "execution_count": 35,
   "metadata": {
    "collapsed": false
   },
   "outputs": [
    {
     "name": "stdout",
     "output_type": "stream",
     "text": [
      "Trajectory length (s): 1800.0\n",
      "Lyapunov exponents estimated:\n",
      "\n"
     ]
    },
    {
     "data": {
      "text/html": [
       "<div>\n",
       "<table border=\"1\" class=\"dataframe\">\n",
       "  <thead>\n",
       "    <tr style=\"text-align: right;\">\n",
       "      <th></th>\n",
       "      <th>value</th>\n",
       "      <th>std</th>\n",
       "    </tr>\n",
       "  </thead>\n",
       "  <tbody>\n",
       "    <tr>\n",
       "      <th>L1_sys1</th>\n",
       "      <td>0.928282</td>\n",
       "      <td>0.000188</td>\n",
       "    </tr>\n",
       "    <tr>\n",
       "      <th>L2_sys1</th>\n",
       "      <td>-0.009485</td>\n",
       "      <td>0.000015</td>\n",
       "    </tr>\n",
       "    <tr>\n",
       "      <th>L3_sys1</th>\n",
       "      <td>-0.022899</td>\n",
       "      <td>0.000100</td>\n",
       "    </tr>\n",
       "    <tr>\n",
       "      <th>L1_sys2</th>\n",
       "      <td>-0.036869</td>\n",
       "      <td>0.000048</td>\n",
       "    </tr>\n",
       "    <tr>\n",
       "      <th>L2_sys2</th>\n",
       "      <td>-0.038678</td>\n",
       "      <td>0.000099</td>\n",
       "    </tr>\n",
       "    <tr>\n",
       "      <th>L3_sys2</th>\n",
       "      <td>-0.053840</td>\n",
       "      <td>0.000053</td>\n",
       "    </tr>\n",
       "    <tr>\n",
       "      <th>L1_sys3</th>\n",
       "      <td>-0.086972</td>\n",
       "      <td>0.000091</td>\n",
       "    </tr>\n",
       "    <tr>\n",
       "      <th>L2_sys3</th>\n",
       "      <td>-0.089502</td>\n",
       "      <td>0.000037</td>\n",
       "    </tr>\n",
       "    <tr>\n",
       "      <th>L3_sys3</th>\n",
       "      <td>-0.102882</td>\n",
       "      <td>0.000089</td>\n",
       "    </tr>\n",
       "    <tr>\n",
       "      <th>L1_sys4</th>\n",
       "      <td>-0.105985</td>\n",
       "      <td>0.000052</td>\n",
       "    </tr>\n",
       "    <tr>\n",
       "      <th>L2_sys4</th>\n",
       "      <td>-0.127952</td>\n",
       "      <td>0.000124</td>\n",
       "    </tr>\n",
       "    <tr>\n",
       "      <th>L3_sys4</th>\n",
       "      <td>-0.147085</td>\n",
       "      <td>0.000058</td>\n",
       "    </tr>\n",
       "    <tr>\n",
       "      <th>L1_sys5</th>\n",
       "      <td>-0.208186</td>\n",
       "      <td>0.000346</td>\n",
       "    </tr>\n",
       "    <tr>\n",
       "      <th>L2_sys5</th>\n",
       "      <td>-2.287839</td>\n",
       "      <td>0.000539</td>\n",
       "    </tr>\n",
       "    <tr>\n",
       "      <th>L3_sys5</th>\n",
       "      <td>-2.821956</td>\n",
       "      <td>0.000618</td>\n",
       "    </tr>\n",
       "    <tr>\n",
       "      <th>L1_sys6</th>\n",
       "      <td>-3.188332</td>\n",
       "      <td>0.000822</td>\n",
       "    </tr>\n",
       "    <tr>\n",
       "      <th>L2_sys6</th>\n",
       "      <td>-3.524522</td>\n",
       "      <td>0.000759</td>\n",
       "    </tr>\n",
       "    <tr>\n",
       "      <th>L3_sys6</th>\n",
       "      <td>-4.438705</td>\n",
       "      <td>0.000762</td>\n",
       "    </tr>\n",
       "  </tbody>\n",
       "</table>\n",
       "</div>"
      ],
      "text/plain": [
       "            value       std\n",
       "L1_sys1  0.928282  0.000188\n",
       "L2_sys1 -0.009485  0.000015\n",
       "L3_sys1 -0.022899  0.000100\n",
       "L1_sys2 -0.036869  0.000048\n",
       "L2_sys2 -0.038678  0.000099\n",
       "L3_sys2 -0.053840  0.000053\n",
       "L1_sys3 -0.086972  0.000091\n",
       "L2_sys3 -0.089502  0.000037\n",
       "L3_sys3 -0.102882  0.000089\n",
       "L1_sys4 -0.105985  0.000052\n",
       "L2_sys4 -0.127952  0.000124\n",
       "L3_sys4 -0.147085  0.000058\n",
       "L1_sys5 -0.208186  0.000346\n",
       "L2_sys5 -2.287839  0.000539\n",
       "L3_sys5 -2.821956  0.000618\n",
       "L1_sys6 -3.188332  0.000822\n",
       "L2_sys6 -3.524522  0.000759\n",
       "L3_sys6 -4.438705  0.000762"
      ]
     },
     "execution_count": 35,
     "metadata": {},
     "output_type": "execute_result"
    }
   ],
   "source": [
    "# formating output\n",
    "res_lces=pd.DataFrame()\n",
    "\n",
    "res_lces['value']=lces.iloc[-1,:]\n",
    "res_lces['std']=lces.iloc[-10:,:].std() #uncertainty evaluated with the last 10 values.\n",
    "\n",
    "print 'Trajectory length (s):',K*T\n",
    "\n",
    "print 'Lyapunov exponents estimated:\\n'\n",
    "res_lces"
   ]
  },
  {
   "cell_type": "code",
   "execution_count": 45,
   "metadata": {
    "collapsed": false
   },
   "outputs": [
    {
     "name": "stdout",
     "output_type": "stream",
     "text": [
      "Trajectory length (s): 600.0\n",
      "Lyapunov exponents estimated:\n",
      "\n"
     ]
    },
    {
     "data": {
      "text/html": [
       "<div>\n",
       "<table border=\"1\" class=\"dataframe\">\n",
       "  <thead>\n",
       "    <tr style=\"text-align: right;\">\n",
       "      <th></th>\n",
       "      <th>value</th>\n",
       "      <th>std</th>\n",
       "    </tr>\n",
       "  </thead>\n",
       "  <tbody>\n",
       "    <tr>\n",
       "      <th>L1_sys1</th>\n",
       "      <td>0.839880</td>\n",
       "      <td>0.000897</td>\n",
       "    </tr>\n",
       "    <tr>\n",
       "      <th>L2_sys1</th>\n",
       "      <td>-0.009161</td>\n",
       "      <td>0.000071</td>\n",
       "    </tr>\n",
       "    <tr>\n",
       "      <th>L3_sys1</th>\n",
       "      <td>-0.024226</td>\n",
       "      <td>0.000303</td>\n",
       "    </tr>\n",
       "    <tr>\n",
       "      <th>L1_sys2</th>\n",
       "      <td>-0.035543</td>\n",
       "      <td>0.000252</td>\n",
       "    </tr>\n",
       "    <tr>\n",
       "      <th>L2_sys2</th>\n",
       "      <td>-0.040627</td>\n",
       "      <td>0.000220</td>\n",
       "    </tr>\n",
       "    <tr>\n",
       "      <th>L3_sys2</th>\n",
       "      <td>-0.054106</td>\n",
       "      <td>0.000128</td>\n",
       "    </tr>\n",
       "    <tr>\n",
       "      <th>L1_sys3</th>\n",
       "      <td>-0.074724</td>\n",
       "      <td>0.000132</td>\n",
       "    </tr>\n",
       "    <tr>\n",
       "      <th>L2_sys3</th>\n",
       "      <td>-0.092128</td>\n",
       "      <td>0.000213</td>\n",
       "    </tr>\n",
       "    <tr>\n",
       "      <th>L3_sys3</th>\n",
       "      <td>-0.108468</td>\n",
       "      <td>0.000166</td>\n",
       "    </tr>\n",
       "    <tr>\n",
       "      <th>L1_sys4</th>\n",
       "      <td>-0.115435</td>\n",
       "      <td>0.000316</td>\n",
       "    </tr>\n",
       "    <tr>\n",
       "      <th>L2_sys4</th>\n",
       "      <td>-0.133499</td>\n",
       "      <td>0.000289</td>\n",
       "    </tr>\n",
       "    <tr>\n",
       "      <th>L3_sys4</th>\n",
       "      <td>-0.160768</td>\n",
       "      <td>0.000288</td>\n",
       "    </tr>\n",
       "    <tr>\n",
       "      <th>L1_sys5</th>\n",
       "      <td>-0.307822</td>\n",
       "      <td>0.001355</td>\n",
       "    </tr>\n",
       "    <tr>\n",
       "      <th>L2_sys5</th>\n",
       "      <td>-2.249560</td>\n",
       "      <td>0.001411</td>\n",
       "    </tr>\n",
       "    <tr>\n",
       "      <th>L3_sys5</th>\n",
       "      <td>-2.889055</td>\n",
       "      <td>0.001976</td>\n",
       "    </tr>\n",
       "    <tr>\n",
       "      <th>L1_sys6</th>\n",
       "      <td>-3.135599</td>\n",
       "      <td>0.002135</td>\n",
       "    </tr>\n",
       "    <tr>\n",
       "      <th>L2_sys6</th>\n",
       "      <td>-3.509492</td>\n",
       "      <td>0.002054</td>\n",
       "    </tr>\n",
       "    <tr>\n",
       "      <th>L3_sys6</th>\n",
       "      <td>-4.338741</td>\n",
       "      <td>0.000649</td>\n",
       "    </tr>\n",
       "  </tbody>\n",
       "</table>\n",
       "</div>"
      ],
      "text/plain": [
       "            value       std\n",
       "L1_sys1  0.839880  0.000897\n",
       "L2_sys1 -0.009161  0.000071\n",
       "L3_sys1 -0.024226  0.000303\n",
       "L1_sys2 -0.035543  0.000252\n",
       "L2_sys2 -0.040627  0.000220\n",
       "L3_sys2 -0.054106  0.000128\n",
       "L1_sys3 -0.074724  0.000132\n",
       "L2_sys3 -0.092128  0.000213\n",
       "L3_sys3 -0.108468  0.000166\n",
       "L1_sys4 -0.115435  0.000316\n",
       "L2_sys4 -0.133499  0.000289\n",
       "L3_sys4 -0.160768  0.000288\n",
       "L1_sys5 -0.307822  0.001355\n",
       "L2_sys5 -2.249560  0.001411\n",
       "L3_sys5 -2.889055  0.001976\n",
       "L1_sys6 -3.135599  0.002135\n",
       "L2_sys6 -3.509492  0.002054\n",
       "L3_sys6 -4.338741  0.000649"
      ]
     },
     "execution_count": 45,
     "metadata": {},
     "output_type": "execute_result"
    }
   ],
   "source": [
    "# formating output\n",
    "res_lces=pd.DataFrame()\n",
    "\n",
    "res_lces['value']=lces.iloc[-1,:]\n",
    "res_lces['std']=lces.iloc[-10:,:].std() #uncertainty evaluated with the last 10 values.\n",
    "\n",
    "print 'Trajectory length (s):',K*T\n",
    "\n",
    "print 'Lyapunov exponents estimated:\\n'\n",
    "res_lces"
   ]
  },
  {
   "cell_type": "code",
   "execution_count": 46,
   "metadata": {
    "collapsed": false
   },
   "outputs": [
    {
     "data": {
      "text/plain": [
       "<matplotlib.axes._subplots.AxesSubplot at 0x7fb05af56910>"
      ]
     },
     "execution_count": 46,
     "metadata": {},
     "output_type": "execute_result"
    },
    {
     "data": {
      "image/png": "[encoded data removed]",
      "text/plain": [
       "<matplotlib.figure.Figure at 0x7fb04fffaa90>"
      ]
     },
     "metadata": {},
     "output_type": "display_data"
    }
   ],
   "source": [
    "lces.plot(title=\"Convergence plot $\\epsilon=$\"+i_coup)"
   ]
  },
  {
   "cell_type": "code",
   "execution_count": 27,
   "metadata": {
    "collapsed": false
   },
   "outputs": [
    {
     "name": "stdout",
     "output_type": "stream",
     "text": [
      "Trajectory length (s): 600.0\n",
      "Lyapunov exponents estimated:\n",
      "\n"
     ]
    },
    {
     "data": {
      "text/html": [
       "<div>\n",
       "<table border=\"1\" class=\"dataframe\">\n",
       "  <thead>\n",
       "    <tr style=\"text-align: right;\">\n",
       "      <th></th>\n",
       "      <th>value</th>\n",
       "      <th>std</th>\n",
       "    </tr>\n",
       "  </thead>\n",
       "  <tbody>\n",
       "    <tr>\n",
       "      <th>L1_sys1</th>\n",
       "      <td>0.959724</td>\n",
       "      <td>0.000734</td>\n",
       "    </tr>\n",
       "    <tr>\n",
       "      <th>L2_sys1</th>\n",
       "      <td>-0.010805</td>\n",
       "      <td>0.000106</td>\n",
       "    </tr>\n",
       "    <tr>\n",
       "      <th>L3_sys1</th>\n",
       "      <td>-0.031558</td>\n",
       "      <td>0.000456</td>\n",
       "    </tr>\n",
       "    <tr>\n",
       "      <th>L1_sys2</th>\n",
       "      <td>-0.036475</td>\n",
       "      <td>0.000143</td>\n",
       "    </tr>\n",
       "    <tr>\n",
       "      <th>L2_sys2</th>\n",
       "      <td>-0.039169</td>\n",
       "      <td>0.000282</td>\n",
       "    </tr>\n",
       "    <tr>\n",
       "      <th>L3_sys2</th>\n",
       "      <td>-0.053893</td>\n",
       "      <td>0.000144</td>\n",
       "    </tr>\n",
       "    <tr>\n",
       "      <th>L1_sys3</th>\n",
       "      <td>-0.080425</td>\n",
       "      <td>0.000117</td>\n",
       "    </tr>\n",
       "    <tr>\n",
       "      <th>L2_sys3</th>\n",
       "      <td>-0.096136</td>\n",
       "      <td>0.000128</td>\n",
       "    </tr>\n",
       "    <tr>\n",
       "      <th>L3_sys3</th>\n",
       "      <td>-0.103768</td>\n",
       "      <td>0.000143</td>\n",
       "    </tr>\n",
       "    <tr>\n",
       "      <th>L1_sys4</th>\n",
       "      <td>-0.103964</td>\n",
       "      <td>0.000317</td>\n",
       "    </tr>\n",
       "    <tr>\n",
       "      <th>L2_sys4</th>\n",
       "      <td>-0.133490</td>\n",
       "      <td>0.000157</td>\n",
       "    </tr>\n",
       "    <tr>\n",
       "      <th>L3_sys4</th>\n",
       "      <td>-0.165214</td>\n",
       "      <td>0.000479</td>\n",
       "    </tr>\n",
       "    <tr>\n",
       "      <th>L1_sys5</th>\n",
       "      <td>-0.188835</td>\n",
       "      <td>0.000286</td>\n",
       "    </tr>\n",
       "    <tr>\n",
       "      <th>L2_sys5</th>\n",
       "      <td>-2.261038</td>\n",
       "      <td>0.001665</td>\n",
       "    </tr>\n",
       "    <tr>\n",
       "      <th>L3_sys5</th>\n",
       "      <td>-2.827148</td>\n",
       "      <td>0.002162</td>\n",
       "    </tr>\n",
       "    <tr>\n",
       "      <th>L1_sys6</th>\n",
       "      <td>-3.198744</td>\n",
       "      <td>0.001837</td>\n",
       "    </tr>\n",
       "    <tr>\n",
       "      <th>L2_sys6</th>\n",
       "      <td>-3.536727</td>\n",
       "      <td>0.001264</td>\n",
       "    </tr>\n",
       "    <tr>\n",
       "      <th>L3_sys6</th>\n",
       "      <td>-4.408152</td>\n",
       "      <td>0.001275</td>\n",
       "    </tr>\n",
       "  </tbody>\n",
       "</table>\n",
       "</div>"
      ],
      "text/plain": [
       "            value       std\n",
       "L1_sys1  0.959724  0.000734\n",
       "L2_sys1 -0.010805  0.000106\n",
       "L3_sys1 -0.031558  0.000456\n",
       "L1_sys2 -0.036475  0.000143\n",
       "L2_sys2 -0.039169  0.000282\n",
       "L3_sys2 -0.053893  0.000144\n",
       "L1_sys3 -0.080425  0.000117\n",
       "L2_sys3 -0.096136  0.000128\n",
       "L3_sys3 -0.103768  0.000143\n",
       "L1_sys4 -0.103964  0.000317\n",
       "L2_sys4 -0.133490  0.000157\n",
       "L3_sys4 -0.165214  0.000479\n",
       "L1_sys5 -0.188835  0.000286\n",
       "L2_sys5 -2.261038  0.001665\n",
       "L3_sys5 -2.827148  0.002162\n",
       "L1_sys6 -3.198744  0.001837\n",
       "L2_sys6 -3.536727  0.001264\n",
       "L3_sys6 -4.408152  0.001275"
      ]
     },
     "execution_count": 27,
     "metadata": {},
     "output_type": "execute_result"
    }
   ],
   "source": []
  },
  {
   "cell_type": "code",
   "execution_count": 31,
   "metadata": {
    "collapsed": false
   },
   "outputs": [
    {
     "data": {
      "text/plain": [
       "<matplotlib.axes._subplots.AxesSubplot at 0x7fb05a69e4d0>"
      ]
     },
     "execution_count": 31,
     "metadata": {},
     "output_type": "execute_result"
    },
    {
     "data": {
      "image/png": "[encoded data removed]",
      "text/plain": [
       "<matplotlib.figure.Figure at 0x7fb05a6a6990>"
      ]
     },
     "metadata": {},
     "output_type": "display_data"
    }
   ],
   "source": [
    "lces.plot(title=\"Convergence plot $\\epsilon=$\"+i_coup)"
   ]
  },
  {
   "cell_type": "markdown",
   "metadata": {},
   "source": [
    "# Plotting what it is being simulated"
   ]
  },
  {
   "cell_type": "code",
   "execution_count": 55,
   "metadata": {
    "collapsed": true
   },
   "outputs": [],
   "source": [
    "def RKStep(F,Y0,dt):\n",
    "    \"\"\"Runge-Kutta integration\n",
    "    F is the vector field \"\"\"\n",
    "    \n",
    "    \n",
    "    k1F=dt*F(Y0)[0] # ravel because the sympy-numpy function returns [[x1],[y1],[z1]]\n",
    "    \n",
    "    k2F=dt*F(Y0+k1F/2)[0]\n",
    "    \n",
    "    k3F=dt*F(Y0+k2F/2)[0]\n",
    "\n",
    "    k4F=dt*F(Y0+k3F)[0]\n",
    "\n",
    "    return Y0+(k1F+2*k2F+2*k3F+k4F)/6.\n",
    "\n",
    "\n",
    "def gram_schmidt_columns(u):\n",
    "    \"\"\" Returns an orthogonal (and not normalized) base, using\n",
    "        the Gram-Schmidt method.\n",
    "        \n",
    "        Vectors are considered as the columns of the matrix u.\n",
    "        \"\"\"\n",
    "    \n",
    "    w=np.copy(u)\n",
    "    v=np.empty_like(w)\n",
    "    N_vectors=u.shape[1] # number of vectors=number of columns of the matrix u.\n",
    "\n",
    "    # w1\n",
    "    w[:,0]=u[:,0]\n",
    "    v[:,0]=w[:,0]/norm(w[:,0])\n",
    "\n",
    "    # wk, for k>0\n",
    "    for k in range(1,N_vectors):\n",
    "        for i in range(k):\n",
    "            w[:,k]-=np.dot(u[:,k],v[:,i])*v[:,i]\n",
    "        v[:,k]=w[:,k]/norm(w[:,k])\n",
    "\n",
    "    return w     \n",
    "\n",
    "\n",
    "def Simulate(F,Vars,Nsys,\n",
    "        Y0_n,dt_n,T,K,\n",
    "        Transient=0):\n",
    "\n",
    "    # State vector (symbolic): None x1 y1 z1 x2 y2 z2 x3 y3 z3\n",
    "    sys_i=[str(i) for i in np.arange(1,Nsys+1)]\n",
    "\n",
    "    labels_temp=[j+i+' ' for i in sys_i for j in Vars]\n",
    "    labels_temp='None '+''.join(labels_temp) # none para que X[1] corresponda ao simbolo x1\n",
    "\n",
    "    # state variables\n",
    "    X=symbols(labels_temp, real=True)\n",
    "    vecX=Matrix(X[1:])\n",
    "    \n",
    "    # Jacobian\n",
    "    DF=F.jacobian(vecX)\n",
    "    \n",
    "    # Matrix Phi\n",
    "    Phi=Matrix(np.array(['phi'+str(i)+str(j) \n",
    "        for i in range(1,Nsys*3+1)\n",
    "        for j in range(1,Nsys*3+1)]).reshape(Nsys*3,Nsys*3))\n",
    "    \n",
    "    # dPhi/dt\n",
    "    DPhi=Phi*DF.T\n",
    "\n",
    "\n",
    "    # Symbolic vector [x ..., y..., z..., phi11, phi12, ...\n",
    "    vecY0_Phi0=flatten(vecX)+flatten(Phi)\n",
    "\n",
    "    # Creating the functions (joining F and DPhi)\n",
    "    f_dphi=lambdify([vecY0_Phi0],(DPhi.T.vec().row_insert(0,F)).T,'numpy') # flattened function [F, DF.Phi]\n",
    "    \n",
    "    \n",
    "    # Simulation ##########################\n",
    "    \n",
    "    # Numeric vectors and matrices\n",
    "    Phi0_n=np.eye(Nsys*3)\n",
    "    vecY0_Phi0_n=np.hstack((Y0_n,Phi0_n.ravel()))\n",
    "    yt=vecY0_Phi0_n.copy()\n",
    "    \n",
    "    # Transient\n",
    "    if Transient>0:\n",
    "        N_n=int(Transient/dt_n)\n",
    "        \n",
    "\n",
    "        for i in xrange(N_n-1):\n",
    "            yt=RKStep(f_dphi,yt,dt_n)\n",
    "        \n",
    "        \n",
    "    # Permanent regime\n",
    "    N=int(T/dt_n)\n",
    "    yt_permanent=np.empty((N,yt.shape[0]))\n",
    "    yt_permanent[0,:]=yt.copy()\n",
    "    for i in xrange(N-1):\n",
    "            yt_permanent[i+1,:]=RKStep(f_dphi,yt_permanent[i,:],dt_n)\n",
    "\n",
    "    \n",
    "    \n",
    "    return yt_permanent"
   ]
  },
  {
   "cell_type": "markdown",
   "metadata": {},
   "source": [
    "# Loading modules"
   ]
  },
  {
   "cell_type": "code",
   "execution_count": 8,
   "metadata": {
    "collapsed": false
   },
   "outputs": [],
   "source": [
    "#Básicos\n",
    "%matplotlib inline\n",
    "\n",
    "#Símbolo / se torna divisão verdadeira (e não apenas a inteira)\n",
    "from __future__ import division\n",
    "\n",
    "import numpy as np\n",
    "import pandas as pd\n",
    "import scipy.io as sio\n",
    "import matplotlib.pyplot as plt\n",
    "import time\n",
    "\n",
    "# specific\n",
    "from sympy import *\n",
    "from sympy.physics.quantum import TensorProduct\n",
    "\n",
    "import h5py\n",
    "import networkx as nx\n",
    "\n",
    "#meus modulos\n",
    "import daVinci03 as leo\n",
    "import mssa as mssa\n",
    "import DySys as ds\n",
    "\n",
    "\n",
    "init_printing()"
   ]
  },
  {
   "cell_type": "code",
   "execution_count": null,
   "metadata": {
    "collapsed": true
   },
   "outputs": [],
   "source": []
  }
 ],
 "metadata": {
  "anaconda-cloud": {},
  "kernelspec": {
   "display_name": "Python [conda root]",
   "language": "python",
   "name": "conda-root-py"
  },
  "language_info": {
   "codemirror_mode": {
    "name": "ipython",
    "version": 2
   },
   "file_extension": ".py",
   "mimetype": "text/x-python",
   "name": "python",
   "nbconvert_exporter": "python",
   "pygments_lexer": "ipython2",
   "version": "2.7.12"
  },
  "nav_menu": {},
  "toc": {
   "nav_menu": {
    "height": "272px",
    "width": "252px"
   },
   "navigate_menu": true,
   "number_sections": true,
   "sideBar": true,
   "threshold": 4,
   "toc_cell": false,
   "toc_section_display": "block",
   "toc_window_display": true
  }
 },
 "nbformat": 4,
 "nbformat_minor": 1
}
